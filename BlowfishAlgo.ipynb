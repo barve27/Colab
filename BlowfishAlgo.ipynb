{
  "nbformat": 4,
  "nbformat_minor": 0,
  "metadata": {
    "colab": {
      "provenance": [],
      "authorship_tag": "ABX9TyO/b1XsaPg6UObWxnPjEfnJ",
      "include_colab_link": true
    },
    "kernelspec": {
      "name": "python3",
      "display_name": "Python 3"
    },
    "language_info": {
      "name": "python"
    }
  },
  "cells": [
    {
      "cell_type": "markdown",
      "metadata": {
        "id": "view-in-github",
        "colab_type": "text"
      },
      "source": [
        "<a href=\"https://colab.research.google.com/github/barve27/Colab/blob/main/BlowfishAlgo.ipynb\" target=\"_parent\"><img src=\"https://colab.research.google.com/assets/colab-badge.svg\" alt=\"Open In Colab\"/></a>"
      ]
    },
    {
      "cell_type": "code",
      "source": [
        "!pip install pycryptodome\n"
      ],
      "metadata": {
        "colab": {
          "base_uri": "https://localhost:8080/"
        },
        "id": "wH3hyf7R-hqv",
        "outputId": "01e3b376-4df5-490f-a592-47191aed9252"
      },
      "execution_count": 3,
      "outputs": [
        {
          "output_type": "stream",
          "name": "stdout",
          "text": [
            "Collecting pycryptodome\n",
            "  Downloading pycryptodome-3.20.0-cp35-abi3-manylinux_2_17_x86_64.manylinux2014_x86_64.whl.metadata (3.4 kB)\n",
            "Downloading pycryptodome-3.20.0-cp35-abi3-manylinux_2_17_x86_64.manylinux2014_x86_64.whl (2.1 MB)\n",
            "\u001b[2K   \u001b[90m━━━━━━━━━━━━━━━━━━━━━━━━━━━━━━━━━━━━━━━━\u001b[0m \u001b[32m2.1/2.1 MB\u001b[0m \u001b[31m9.7 MB/s\u001b[0m eta \u001b[36m0:00:00\u001b[0m\n",
            "\u001b[?25hInstalling collected packages: pycryptodome\n",
            "Successfully installed pycryptodome-3.20.0\n"
          ]
        }
      ]
    },
    {
      "cell_type": "code",
      "execution_count": 5,
      "metadata": {
        "colab": {
          "base_uri": "https://localhost:8080/"
        },
        "id": "KBm2A-hA2zHo",
        "outputId": "4cb6bcf4-ba63-4c4a-864b-5cc6c87c6820"
      },
      "outputs": [
        {
          "output_type": "stream",
          "name": "stdout",
          "text": [
            "Encrypted: c47840ab52063bbb05d9dd5b7a992fdf6a667fbb5e0837043d3fe71990957d32\n",
            "Decrypted: Hello, Blowfish!\n"
          ]
        }
      ],
      "source": [
        "from Crypto.Cipher import Blowfish\n",
        "from Crypto.Util.Padding import pad, unpad\n",
        "import os\n",
        "\n",
        "\n",
        "def blowfish_encrypt(key, plaintext):\n",
        "    cipher = Blowfish.new(key, Blowfish.MODE_CBC)\n",
        "    iv = cipher.iv\n",
        "    padded_text = pad(plaintext.encode(), Blowfish.block_size)\n",
        "    ciphertext = cipher.encrypt(padded_text)\n",
        "    return iv + ciphertext\n",
        "\n",
        "\n",
        "def blowfish_decrypt(key, ciphertext):\n",
        "    iv = ciphertext[:Blowfish.block_size]\n",
        "    cipher = Blowfish.new(key, Blowfish.MODE_CBC, iv)\n",
        "    decrypted_padded = cipher.decrypt(ciphertext[Blowfish.block_size:])\n",
        "    return unpad(decrypted_padded, Blowfish.block_size).decode()\n",
        "\n",
        "\n",
        "if __name__ == \"__main__\":\n",
        "    key = os.urandom(16)\n",
        "    plaintext = \"Hello, Blowfish!\"\n",
        "\n",
        "\n",
        "    encrypted = blowfish_encrypt(key, plaintext)\n",
        "    print(f\"Encrypted: {encrypted.hex()}\")\n",
        "\n",
        "\n",
        "    decrypted = blowfish_decrypt(key, encrypted)\n",
        "    print(f\"Decrypted: {decrypted}\")\n"
      ]
    },
    {
      "cell_type": "code",
      "source": [
        "import random\n",
        "from sympy import mod_inverse\n",
        "\n",
        "class Paillier:\n",
        "    def __init__(self):\n",
        "        self.p = self._get_large_prime(512)\n",
        "        self.q = self._get_large_prime(512)\n",
        "        self.n = self.p * self.q\n",
        "        self.n_squared = self.n ** 2\n",
        "        self.g = self.n + 1  # g = n + 1\n",
        "        self.lambda_val = (self.p - 1) * (self.q - 1) // self._gcd(self.p - 1, self.q - 1)\n",
        "\n",
        "    def _get_large_prime(self, bit_length):\n",
        "        while True:\n",
        "            prime = random.getrandbits(bit_length)\n",
        "            if self._is_prime(prime):\n",
        "                return prime\n",
        "\n",
        "    def _is_prime(self, n, k=128):\n",
        "        if n <= 1 or n == 4:\n",
        "            return False\n",
        "        if n <= 3:\n",
        "            return True\n",
        "        for _ in range(k):\n",
        "            a = random.randint(2, n - 2)\n",
        "            if pow(a, n - 1, n) != 1:\n",
        "                return False\n",
        "        return True\n",
        "\n",
        "    def _gcd(self, a, b):\n",
        "        while b:\n",
        "            a, b = b, a % b\n",
        "        return a\n",
        "\n",
        "    def encrypt(self, plaintext):\n",
        "        r = random.randint(1, self.n - 1)\n",
        "        ciphertext = (pow(self.g, plaintext, self.n_squared) * pow(r, self.n, self.n_squared)) % self.n_squared\n",
        "        return ciphertext\n",
        "\n",
        "    def decrypt(self, ciphertext):\n",
        "        u = (pow(ciphertext, self.lambda_val, self.n_squared) - 1) // self.n\n",
        "        plaintext = (u * mod_inverse(self.lambda_val, self.n)) % self.n\n",
        "        return plaintext\n",
        "\n",
        "    def add_encrypted(self, c1, c2):\n",
        "        return (c1 * c2) % self.n_squared\n",
        "\n",
        "\n",
        "# Example usage\n",
        "if __name__ == \"__main__\":\n",
        "    paillier = Paillier()\n",
        "\n",
        "    # Encrypt two numbers\n",
        "    plaintext1 = 6\n",
        "    plaintext2 = 7\n",
        "    encrypted1 = paillier.encrypt(plaintext1)\n",
        "    encrypted2 = paillier.encrypt(plaintext2)\n",
        "\n",
        "    # Homomorphic addition\n",
        "    encrypted_sum = paillier.add_encrypted(encrypted1, encrypted2)\n",
        "\n",
        "    # Decrypt the result\n",
        "    decrypted_sum = paillier.decrypt(encrypted_sum)\n",
        "    print(f\"Decrypted sum: {decrypted_sum}\")  # Output should be 13\n"
      ],
      "metadata": {
        "colab": {
          "base_uri": "https://localhost:8080/"
        },
        "id": "_4T2qM5cELoR",
        "outputId": "bacb3d39-4a6f-4cbc-f150-de91fb3138e1"
      },
      "execution_count": 6,
      "outputs": [
        {
          "output_type": "stream",
          "name": "stdout",
          "text": [
            "Decrypted sum: 13\n"
          ]
        }
      ]
    }
  ]
}