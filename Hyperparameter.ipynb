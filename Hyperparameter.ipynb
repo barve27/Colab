{
  "nbformat": 4,
  "nbformat_minor": 0,
  "metadata": {
    "colab": {
      "provenance": [],
      "authorship_tag": "ABX9TyPnXAmNJpM+ptEH+UoSggSL",
      "include_colab_link": true
    },
    "kernelspec": {
      "name": "python3",
      "display_name": "Python 3"
    },
    "language_info": {
      "name": "python"
    }
  },
  "cells": [
    {
      "cell_type": "markdown",
      "metadata": {
        "id": "view-in-github",
        "colab_type": "text"
      },
      "source": [
        "<a href=\"https://colab.research.google.com/github/barve27/Colab/blob/main/Hyperparameter.ipynb\" target=\"_parent\"><img src=\"https://colab.research.google.com/assets/colab-badge.svg\" alt=\"Open In Colab\"/></a>"
      ]
    },
    {
      "cell_type": "code",
      "execution_count": 1,
      "metadata": {
        "colab": {
          "base_uri": "https://localhost:8080/"
        },
        "id": "LFd3Yd9ucoqS",
        "outputId": "102f1d27-818b-4507-9df1-2d63d5bec6c6"
      },
      "outputs": [
        {
          "output_type": "stream",
          "name": "stdout",
          "text": [
            "Requirement already satisfied: scikit-learn in /usr/local/lib/python3.10/dist-packages (1.2.2)\n",
            "Requirement already satisfied: numpy>=1.17.3 in /usr/local/lib/python3.10/dist-packages (from scikit-learn) (1.25.2)\n",
            "Requirement already satisfied: scipy>=1.3.2 in /usr/local/lib/python3.10/dist-packages (from scikit-learn) (1.11.4)\n",
            "Requirement already satisfied: joblib>=1.1.1 in /usr/local/lib/python3.10/dist-packages (from scikit-learn) (1.3.2)\n",
            "Requirement already satisfied: threadpoolctl>=2.0.0 in /usr/local/lib/python3.10/dist-packages (from scikit-learn) (3.3.0)\n"
          ]
        }
      ],
      "source": [
        "pip install scikit-learn"
      ]
    },
    {
      "cell_type": "code",
      "source": [
        "import numpy as np\n",
        "from sklearn.model_selection import GridSearchCV, train_test_split\n",
        "from sklearn.metrics import accuracy_score, mean_squared_error\n",
        "from sklearn.ensemble import RandomForestClassifier, RandomForestRegressor\n",
        "\n",
        "# Classification task\n",
        "def perform_classification(X, y):\n",
        "    # Split data into train and test sets\n",
        "    X_train, X_test, y_train, y_test = train_test_split(X, y, test_size=0.2, random_state=42)\n",
        "\n",
        "    # Define the classifier\n",
        "    classifier = RandomForestClassifier()\n",
        "\n",
        "    # Define the parameter grid\n",
        "    param_grid = {\n",
        "        'n_estimators': [50, 100, 150],\n",
        "        'max_depth': [None, 10, 20],\n",
        "        'min_samples_split': [2, 5, 10],\n",
        "        'min_samples_leaf': [1, 2, 4]\n",
        "    }\n",
        "\n",
        "    # Perform grid search\n",
        "    grid_search = GridSearchCV(classifier, param_grid, cv=3, scoring='accuracy')\n",
        "    grid_search.fit(X_train, y_train)\n",
        "\n",
        "    # Evaluate on test set\n",
        "    y_pred = grid_search.predict(X_test)\n",
        "    accuracy = accuracy_score(y_test, y_pred)\n",
        "    best_params = grid_search.best_params_\n",
        "\n",
        "    return accuracy, best_params\n",
        "\n",
        "# Regression task\n",
        "def perform_regression(X, y):\n",
        "    # Split data into train and test sets\n",
        "    X_train, X_test, y_train, y_test = train_test_split(X, y, test_size=0.2, random_state=42)\n",
        "\n",
        "    # Define the regressor\n",
        "    regressor = RandomForestRegressor()\n",
        "\n",
        "    # Define the parameter grid\n",
        "    param_grid = {\n",
        "        'n_estimators': [50, 100, 150],\n",
        "        'max_depth': [None, 10, 20],\n",
        "        'min_samples_split': [2, 5, 10],\n",
        "        'min_samples_leaf': [1, 2, 4]\n",
        "    }\n",
        "\n",
        "    # Perform grid search\n",
        "    grid_search = GridSearchCV(regressor, param_grid, cv=3, scoring='neg_mean_squared_error')\n",
        "    grid_search.fit(X_train, y_train)\n",
        "\n",
        "    # Evaluate on test set\n",
        "    y_pred = grid_search.predict(X_test)\n",
        "    mse = mean_squared_error(y_test, y_pred)\n",
        "    best_params = grid_search.best_params_\n",
        "\n",
        "    return mse, best_params\n",
        "\n",
        "# Sample data for classification and regression tasks\n",
        "X_classification = np.random.rand(100, 5)  # Sample data for classification (100 samples, 5 features)\n",
        "y_classification = np.random.randint(2, size=100)  # Random labels for classification (binary)\n",
        "\n",
        "X_regression = np.random.rand(100, 5)  # Sample data for regression (100 samples, 5 features)\n",
        "y_regression = np.random.rand(100)  # Random targets for regression\n",
        "\n",
        "# Perform hyperparameter optimization for classification\n",
        "classification_accuracy, classification_best_params = perform_classification(X_classification, y_classification)\n",
        "print(\"Classification Accuracy:\", classification_accuracy)\n",
        "print(\"Best Hyperparameters for Classification:\", classification_best_params)\n",
        "\n",
        "# Perform hyperparameter optimization for regression\n",
        "regression_mse, regression_best_params = perform_regression(X_regression, y_regression)\n",
        "print(\"Regression MSE:\", regression_mse)\n",
        "print(\"Best Hyperparameters for Regression:\", regression_best_params)\n"
      ],
      "metadata": {
        "colab": {
          "base_uri": "https://localhost:8080/"
        },
        "id": "ULpY75k8dYcw",
        "outputId": "98eca33a-1b83-4de6-9676-b4d10956e4d1"
      },
      "execution_count": 2,
      "outputs": [
        {
          "output_type": "stream",
          "name": "stdout",
          "text": [
            "Classification Accuracy: 0.65\n",
            "Best Hyperparameters for Classification: {'max_depth': 20, 'min_samples_leaf': 4, 'min_samples_split': 2, 'n_estimators': 150}\n",
            "Regression MSE: 0.09821645119823938\n",
            "Best Hyperparameters for Regression: {'max_depth': None, 'min_samples_leaf': 4, 'min_samples_split': 10, 'n_estimators': 100}\n"
          ]
        }
      ]
    },
    {
      "cell_type": "markdown",
      "source": [
        "Shorter Version\n"
      ],
      "metadata": {
        "id": "_16NAWnYd2TN"
      }
    },
    {
      "cell_type": "code",
      "source": [
        "import numpy as np\n",
        "from sklearn.model_selection import GridSearchCV, train_test_split\n",
        "from sklearn.metrics import accuracy_score, mean_squared_error\n",
        "from sklearn.ensemble import RandomForestClassifier, RandomForestRegressor\n",
        "\n",
        "# Sample data for classification and regression tasks\n",
        "X_classification = np.random.rand(100, 5)\n",
        "y_classification = np.random.randint(2, size=100)\n",
        "\n",
        "X_regression = np.random.rand(100, 5)\n",
        "y_regression = np.random.rand(100)\n",
        "\n",
        "# Classification task\n",
        "classifier = RandomForestClassifier()\n",
        "param_grid = {'n_estimators': [50, 100, 150], 'max_depth': [None, 10, 20], 'min_samples_split': [2, 5, 10], 'min_samples_leaf': [1, 2, 4]}\n",
        "grid_search_classification = GridSearchCV(classifier, param_grid, cv=3, scoring='accuracy')\n",
        "grid_search_classification.fit(X_classification, y_classification)\n",
        "classification_accuracy = accuracy_score(y_classification, grid_search_classification.best_estimator_.predict(X_classification))\n",
        "\n",
        "# Regression task\n",
        "regressor = RandomForestRegressor()\n",
        "grid_search_regression = GridSearchCV(regressor, param_grid, cv=3, scoring='neg_mean_squared_error')\n",
        "grid_search_regression.fit(X_regression, y_regression)\n",
        "regression_mse = mean_squared_error(y_regression, grid_search_regression.best_estimator_.predict(X_regression))\n",
        "\n",
        "print(\"Classification Accuracy:\", classification_accuracy)\n",
        "print(\"Best Hyperparameters for Classification:\", grid_search_classification.best_params_)\n",
        "print(\"Regression MSE:\", regression_mse)\n",
        "print(\"Best Hyperparameters for Regression:\", grid_search_regression.best_params_)\n"
      ],
      "metadata": {
        "colab": {
          "base_uri": "https://localhost:8080/"
        },
        "id": "z4q_D8KxdysF",
        "outputId": "fced52cf-d6a3-4a39-b3f2-11733779d285"
      },
      "execution_count": 3,
      "outputs": [
        {
          "output_type": "stream",
          "name": "stdout",
          "text": [
            "Classification Accuracy: 0.92\n",
            "Best Hyperparameters for Classification: {'max_depth': 20, 'min_samples_leaf': 4, 'min_samples_split': 2, 'n_estimators': 50}\n",
            "Regression MSE: 0.042258181478269534\n",
            "Best Hyperparameters for Regression: {'max_depth': 10, 'min_samples_leaf': 4, 'min_samples_split': 10, 'n_estimators': 150}\n"
          ]
        }
      ]
    }
  ]
}