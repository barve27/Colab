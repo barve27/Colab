{
  "nbformat": 4,
  "nbformat_minor": 0,
  "metadata": {
    "colab": {
      "provenance": [],
      "authorship_tag": "ABX9TyP1BWn/hMgLSxIYN7HeQdZy",
      "include_colab_link": true
    },
    "kernelspec": {
      "name": "python3",
      "display_name": "Python 3"
    },
    "language_info": {
      "name": "python"
    }
  },
  "cells": [
    {
      "cell_type": "markdown",
      "metadata": {
        "id": "view-in-github",
        "colab_type": "text"
      },
      "source": [
        "<a href=\"https://colab.research.google.com/github/barve27/Colab/blob/main/XOR%26XNOR.ipynb\" target=\"_parent\"><img src=\"https://colab.research.google.com/assets/colab-badge.svg\" alt=\"Open In Colab\"/></a>"
      ]
    },
    {
      "cell_type": "code",
      "execution_count": 2,
      "metadata": {
        "colab": {
          "base_uri": "https://localhost:8080/"
        },
        "id": "Jwu3ZUqUkvVh",
        "outputId": "ee527015-5b05-411e-ce73-8370bf529933"
      },
      "outputs": [
        {
          "output_type": "stream",
          "name": "stdout",
          "text": [
            "Classification Task - XOR:\n",
            "Input: [0 0] Predicted Output: 1\n",
            "Input: [0 1] Predicted Output: 1\n",
            "Input: [1 0] Predicted Output: 0\n",
            "Input: [1 1] Predicted Output: 0\n",
            "\n",
            "Classification Task - XNOR:\n",
            "Input: [0 0] Predicted Output: 0\n",
            "Input: [0 1] Predicted Output: 1\n",
            "Input: [1 0] Predicted Output: 1\n",
            "Input: [1 1] Predicted Output: 1\n"
          ]
        }
      ],
      "source": [
        "import numpy as np\n",
        "\n",
        "class Perceptron:\n",
        "    def __init__(self, input_size, learning_rate=0.1):\n",
        "        self.weights = np.random.rand(input_size)\n",
        "        self.bias = np.random.rand()\n",
        "        self.learning_rate = learning_rate\n",
        "\n",
        "    def activation_function(self, x):\n",
        "        # Step function for classification\n",
        "        return 1 if x >= 0 else 0\n",
        "\n",
        "    def predict(self, inputs):\n",
        "        summation = np.dot(inputs, self.weights) + self.bias\n",
        "        return self.activation_function(summation)\n",
        "\n",
        "    def train(self, training_inputs, labels, epochs):\n",
        "        for epoch in range(epochs):\n",
        "            for inputs, label in zip(training_inputs, labels):\n",
        "                prediction = self.predict(inputs)\n",
        "                error = label - prediction\n",
        "                self.weights += self.learning_rate * error * inputs\n",
        "                self.bias += self.learning_rate * error\n",
        "\n",
        "# XOR Truth Table\n",
        "xor_inputs = np.array([[0, 0],\n",
        "                       [0, 1],\n",
        "                       [1, 0],\n",
        "                       [1, 1]])\n",
        "\n",
        "xor_labels = np.array([0, 1, 1, 0])\n",
        "\n",
        "# XNOR Truth Table\n",
        "xnor_inputs = np.array([[0, 0],\n",
        "                        [0, 1],\n",
        "                        [1, 0],\n",
        "                        [1, 1]])\n",
        "\n",
        "xnor_labels = np.array([1, 0, 0, 1])\n",
        "\n",
        "# Classification Task - XOR\n",
        "print(\"Classification Task - XOR:\")\n",
        "perceptron_xor = Perceptron(2)\n",
        "perceptron_xor.train(xor_inputs, xor_labels, epochs=1000)\n",
        "\n",
        "for inputs in xor_inputs:\n",
        "    print(\"Input:\", inputs, \"Predicted Output:\", perceptron_xor.predict(inputs))\n",
        "\n",
        "# Classification Task - XNOR\n",
        "print(\"\\nClassification Task - XNOR:\")\n",
        "perceptron_xnor = Perceptron(2)\n",
        "perceptron_xnor.train(xnor_inputs, xnor_labels, epochs=1000)\n",
        "\n",
        "for inputs in xnor_inputs:\n",
        "    print(\"Input:\", inputs, \"Predicted Output:\", perceptron_xnor.predict(inputs))\n"
      ]
    }
  ]
}