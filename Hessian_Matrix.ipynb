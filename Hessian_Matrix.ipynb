{
  "nbformat": 4,
  "nbformat_minor": 0,
  "metadata": {
    "colab": {
      "provenance": [],
      "authorship_tag": "ABX9TyOtmbd07FxsiHyWD04leGVH",
      "include_colab_link": true
    },
    "kernelspec": {
      "name": "python3",
      "display_name": "Python 3"
    },
    "language_info": {
      "name": "python"
    }
  },
  "cells": [
    {
      "cell_type": "markdown",
      "metadata": {
        "id": "view-in-github",
        "colab_type": "text"
      },
      "source": [
        "<a href=\"https://colab.research.google.com/github/barve27/Colab/blob/main/Hessian_Matrix.ipynb\" target=\"_parent\"><img src=\"https://colab.research.google.com/assets/colab-badge.svg\" alt=\"Open In Colab\"/></a>"
      ]
    },
    {
      "cell_type": "code",
      "execution_count": 2,
      "metadata": {
        "colab": {
          "base_uri": "https://localhost:8080/"
        },
        "id": "lDXBsLQcpCdk",
        "outputId": "3011bade-f6f0-41a2-f778-6ad17f4791ab"
      },
      "outputs": [
        {
          "output_type": "stream",
          "name": "stdout",
          "text": [
            "Hessian Matrix:\n",
            "Matrix([[2, 2], [2, 2]])\n"
          ]
        }
      ],
      "source": [
        "import sympy as sp\n",
        "\n",
        "def compute_hessian(function, variables):\n",
        "    symbols = sp.symbols(variables)\n",
        "    expr = sp.sympify(function)\n",
        "    gradient = [sp.diff(expr, var) for var in symbols]\n",
        "    hessian = [[sp.diff(gradient[i], var_j) for var_j in symbols] for i in range(len(gradient))]\n",
        "    return sp.Matrix(hessian)\n",
        "\n",
        "if __name__ == \"__main__\":\n",
        "    function = \"x**2 + 2*x*y + y**2\"\n",
        "    variables = [\"x\", \"y\"]\n",
        "    hessian_matrix = compute_hessian(function, variables)\n",
        "\n",
        "    print(\"Hessian Matrix:\")\n",
        "    print(hessian_matrix)"
      ]
    }
  ]
}