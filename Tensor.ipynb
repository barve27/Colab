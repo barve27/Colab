{
  "nbformat": 4,
  "nbformat_minor": 0,
  "metadata": {
    "colab": {
      "provenance": [],
      "authorship_tag": "ABX9TyOYC37A0leURhNovNBST2o1",
      "include_colab_link": true
    },
    "kernelspec": {
      "name": "python3",
      "display_name": "Python 3"
    },
    "language_info": {
      "name": "python"
    }
  },
  "cells": [
    {
      "cell_type": "markdown",
      "metadata": {
        "id": "view-in-github",
        "colab_type": "text"
      },
      "source": [
        "<a href=\"https://colab.research.google.com/github/barve27/Colab/blob/main/Tensor.ipynb\" target=\"_parent\"><img src=\"https://colab.research.google.com/assets/colab-badge.svg\" alt=\"Open In Colab\"/></a>"
      ]
    },
    {
      "cell_type": "code",
      "execution_count": 1,
      "metadata": {
        "colab": {
          "base_uri": "https://localhost:8080/"
        },
        "id": "4r9h20fRcevZ",
        "outputId": "45b61c19-8d97-4cea-9b3d-78e5181811c4"
      },
      "outputs": [
        {
          "output_type": "stream",
          "name": "stdout",
          "text": [
            "Epoch 1/10\n",
            "4/4 [==============================] - 1s 7ms/step - loss: 0.6954 - accuracy: 0.5000\n",
            "Epoch 2/10\n",
            "4/4 [==============================] - 0s 6ms/step - loss: 0.6925 - accuracy: 0.5000\n",
            "Epoch 3/10\n",
            "4/4 [==============================] - 0s 5ms/step - loss: 0.6913 - accuracy: 0.5000\n",
            "Epoch 4/10\n",
            "4/4 [==============================] - 0s 6ms/step - loss: 0.6907 - accuracy: 0.4900\n",
            "Epoch 5/10\n",
            "4/4 [==============================] - 0s 6ms/step - loss: 0.6910 - accuracy: 0.5200\n",
            "Epoch 6/10\n",
            "4/4 [==============================] - 0s 5ms/step - loss: 0.6898 - accuracy: 0.5300\n",
            "Epoch 7/10\n",
            "4/4 [==============================] - 0s 5ms/step - loss: 0.6892 - accuracy: 0.5600\n",
            "Epoch 8/10\n",
            "4/4 [==============================] - 0s 6ms/step - loss: 0.6887 - accuracy: 0.5600\n",
            "Epoch 9/10\n",
            "4/4 [==============================] - 0s 6ms/step - loss: 0.6883 - accuracy: 0.6000\n",
            "Epoch 10/10\n",
            "4/4 [==============================] - 0s 6ms/step - loss: 0.6876 - accuracy: 0.5800\n",
            "4/4 [==============================] - 0s 6ms/step - loss: 0.6869 - accuracy: 0.5400\n",
            "Test Loss: 0.6868600249290466\n",
            "Test Accuracy: 0.5400000214576721\n"
          ]
        }
      ],
      "source": [
        "import tensorflow as tf\n",
        "import numpy as np\n",
        "\n",
        "np.random.seed(0)\n",
        "X = np.random.rand(100, 2)  # 100 samples with 2 features\n",
        "y = np.random.randint(2, size=(100,))  # Binary labels (0 or 1)\n",
        "\n",
        "model = tf.keras.Sequential([\n",
        "    tf.keras.layers.Dense(64, activation='relu', input_shape=(2,)),\n",
        "    tf.keras.layers.Dense(64, activation='relu'),\n",
        "    tf.keras.layers.Dense(1, activation='sigmoid')\n",
        "])\n",
        "\n",
        "\n",
        "model.compile(optimizer='adam',\n",
        "              loss='binary_crossentropy',\n",
        "              metrics=['accuracy'])\n",
        "\n",
        "model.fit(X, y, epochs=10, batch_size=32)\n",
        "\n",
        "loss, accuracy = model.evaluate(X, y)\n",
        "print(\"Test Loss:\", round(loss,2))\n",
        "print(\"Test Accuracy:\", round(accuracy,2))"
      ]
    }
  ]
}