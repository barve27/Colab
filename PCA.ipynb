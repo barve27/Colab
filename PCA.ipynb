{
  "nbformat": 4,
  "nbformat_minor": 0,
  "metadata": {
    "colab": {
      "provenance": [],
      "authorship_tag": "ABX9TyPOrFYOkh81B9s3TYnBkuTz",
      "include_colab_link": true
    },
    "kernelspec": {
      "name": "python3",
      "display_name": "Python 3"
    },
    "language_info": {
      "name": "python"
    }
  },
  "cells": [
    {
      "cell_type": "markdown",
      "metadata": {
        "id": "view-in-github",
        "colab_type": "text"
      },
      "source": [
        "<a href=\"https://colab.research.google.com/github/barve27/Colab/blob/main/PCA.ipynb\" target=\"_parent\"><img src=\"https://colab.research.google.com/assets/colab-badge.svg\" alt=\"Open In Colab\"/></a>"
      ]
    },
    {
      "cell_type": "code",
      "source": [
        "from sklearn.decomposition import PCA\n",
        "import numpy as np\n",
        "\n",
        "# Sample data\n",
        "data = np.array([[1, 2, 3],\n",
        "                 [4, 5, 6],\n",
        "                 [7, 8, 9],\n",
        "                 [10, 11, 12]])\n",
        "\n",
        "# Initialize PCA with desired number of components\n",
        "num_components = 2\n",
        "pca = PCA(n_components=num_components)\n",
        "\n",
        "# Fit and transform the data to the new low-dimensional space\n",
        "data_reduced = pca.fit_transform(data)\n",
        "\n",
        "# Print the original data shape and reduced data shape\n",
        "print(\"Original data shape:\", data.shape)\n",
        "print(\"Reduced data shape:\", data_reduced.shape)\n",
        "\n",
        "# Print the explained variance ratio for each component\n",
        "print(\"Explained variance ratio:\", pca.explained_variance_ratio_)\n"
      ],
      "metadata": {
        "colab": {
          "base_uri": "https://localhost:8080/"
        },
        "id": "t2DmAJSSOj4h",
        "outputId": "1cf9b9d9-08a2-4773-cc1b-03f7a33b6587"
      },
      "execution_count": 8,
      "outputs": [
        {
          "output_type": "stream",
          "name": "stdout",
          "text": [
            "Original data shape: (4, 3)\n",
            "Reduced data shape: (4, 2)\n",
            "Explained variance ratio: [1. 0.]\n"
          ]
        }
      ]
    }
  ]
}